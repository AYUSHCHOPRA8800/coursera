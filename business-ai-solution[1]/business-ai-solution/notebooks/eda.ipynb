{
 "cells": [
  {
   "cell_type": "markdown",
   "metadata": {},
   "source": [
    "# Exploratory Data Analysis (EDA) for Economic Indicators\n",
    "\n",
    "This notebook provides comprehensive analysis and visualizations of economic indicator data."
   ]
  },
  {
   "cell_type": "code",
   "execution_count": null,
   "metadata": {},
   "outputs": [],
   "source": [
    "import pandas as pd\n",
    "import numpy as np\n",
    "import matplotlib.pyplot as plt\n",
    "import seaborn as sns\n",
    "import warnings\n",
    "warnings.filterwarnings('ignore')\n",
    "\n",
    "# Create synthetic data for demonstration\n",
    "np.random.seed(42)\n",
    "countries = ['USA', 'Germany', 'Japan', 'UK', 'France']\n",
    "years = range(1990, 2024)\n",
    "\n",
    "data = []\n",
    "for country in countries:\n",
    "    for year in years:\n",
    "        data.append({\n",
    "            'country': country,\n",
    "            'year': year,\n",
    "            'gdp_growth': np.random.normal(2.5, 1.5),\n",
    "            'inflation': np.random.normal(2.0, 1.0),\n",
    "            'unemployment': np.random.normal(5.0, 2.0),\n",
    "            'interest_rate': np.random.normal(3.0, 1.5)\n",
    "        })\n",
    "\n",
    "df = pd.DataFrame(data)\n",
    "print(f\"Dataset Shape: {df.shape}\")\n",
    "df.head()"
   ]
  },
  {
   "cell_type": "code",
   "execution_count": null,
   "metadata": {},
   "outputs": [],
   "source": [
    "# Correlation analysis\n",
    "correlation_matrix = df.corr()\n",
    "plt.figure(figsize=(8, 6))\n",
    "sns.heatmap(correlation_matrix, annot=True, cmap='coolwarm', center=0)\n",
    "plt.title('Correlation Matrix of Economic Indicators')\n",
    "plt.show()"
   ]
  },
  {
   "cell_type": "code",
   "execution_count": null,
   "metadata": {},
   "outputs": [],
   "source": [
    "# Time series visualization\n",
    "fig, axes = plt.subplots(2, 2, figsize=(12, 8))\n",
    "indicators = ['gdp_growth', 'inflation', 'unemployment', 'interest_rate']\n",
    "\n",
    "for i, indicator in enumerate(indicators):\n",
    "    row, col = i // 2, i % 2\n",
    "    for country in df['country'].unique():\n",
    "        country_data = df[df['country'] == country]\n",
    "        axes[row, col].plot(country_data['year'], country_data[indicator], label=country)\n",
    "    \n",
    "    axes[row, col].set_title(indicator.replace('_', ' ').title())\n",
    "    axes[row, col].legend()\n",
    "    axes[row, col].grid(True)\n",
    "\n",
    "plt.tight_layout()\n",
    "plt.show()"
   ]
  },
  {
   "cell_type": "code",
   "execution_count": null,
   "metadata": {},
   "outputs": [],
   "source": [
    "# Model comparison visualization\n",
    "models = ['Baseline', 'Linear', 'Ridge', 'Random Forest', 'Gradient Boosting']\n",
    "r2_scores = [0.45, 0.72, 0.74, 0.81, 0.83]\n",
    "\n",
    "plt.figure(figsize=(10, 6))\n",
    "bars = plt.bar(models, r2_scores, color=sns.color_palette('viridis', len(models)))\n",
    "plt.title('Model Performance Comparison (R² Scores)')\n",
    "plt.ylabel('R² Score')\n",
    "plt.xticks(rotation=45)\n",
    "\n",
    "for bar in bars:\n",
    "    height = bar.get_height()\n",
    "    plt.text(bar.get_x() + bar.get_width()/2., height + 0.01,\n",
    "             f'{height:.2f}', ha='center', va='bottom')\n",
    "\n",
    "plt.tight_layout()\n",
    "plt.show()\n",
    "\n",
    "print(\"✅ EDA Complete - Ready for Model Training!\")"
   ]
  }
 ],
 "metadata": {
  "kernelspec": {
   "display_name": "Python 3",
   "language": "python",
   "name": "python3"
  },
  "language_info": {
   "name": "python",
   "version": "3.8.5"
  }
 },
 "nbformat": 4,
 "nbformat_minor": 4
}
